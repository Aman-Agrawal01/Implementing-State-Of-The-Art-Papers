{
 "cells": [
  {
   "cell_type": "code",
   "execution_count": 1,
   "metadata": {
    "collapsed": true
   },
   "outputs": [],
   "source": [
    "import torch.nn as nn\n",
    "from torchsummary import summary"
   ]
  },
  {
   "cell_type": "code",
   "execution_count": 2,
   "metadata": {
    "pycharm": {
     "name": "#%%\n"
    }
   },
   "outputs": [],
   "source": [
    "class EntryflowConv(nn.Module):\n",
    "    \"\"\"\n",
    "    First Part in Entry Flow having only Convolution layers.\n",
    "    In Xception:\n",
    "        in_channel = 3\n",
    "        out_channel = 64\n",
    "    \"\"\"\n",
    "    def __init__(self,in_channel,out_channel):\n",
    "        super(EntryflowConv,self).__init__()\n",
    "\n",
    "        self.conv1 = nn.Conv2d(in_channels=in_channel,out_channels=32,kernel_size=3,stride=2)\n",
    "        self.conv2 = nn.Conv2d(in_channels=32,out_channels=out_channel,kernel_size=3)\n",
    "\n",
    "        self.relu = nn.ReLU()\n",
    "\n",
    "    def forward(self,x):\n",
    "        # 299x299x3\n",
    "        x = self.conv1(x)\n",
    "        x = self.relu(x)\n",
    "        # 149x149x32\n",
    "\n",
    "        x = self.conv2(x)\n",
    "        x = self.relu(x)\n",
    "        # 147x147x64\n",
    "\n",
    "        return x"
   ]
  },
  {
   "cell_type": "code",
   "execution_count": 3,
   "metadata": {
    "pycharm": {
     "name": "#%%\n"
    }
   },
   "outputs": [
    {
     "name": "stdout",
     "output_type": "stream",
     "text": [
      "----------------------------------------------------------------\n",
      "        Layer (type)               Output Shape         Param #\n",
      "================================================================\n",
      "            Conv2d-1         [-1, 32, 149, 149]             896\n",
      "              ReLU-2         [-1, 32, 149, 149]               0\n",
      "            Conv2d-3         [-1, 64, 147, 147]          18,496\n",
      "              ReLU-4         [-1, 64, 147, 147]               0\n",
      "================================================================\n",
      "Total params: 19,392\n",
      "Trainable params: 19,392\n",
      "Non-trainable params: 0\n",
      "----------------------------------------------------------------\n",
      "Input size (MB): 1.02\n",
      "Forward/backward pass size (MB): 31.94\n",
      "Params size (MB): 0.07\n",
      "Estimated Total Size (MB): 33.04\n",
      "----------------------------------------------------------------\n"
     ]
    }
   ],
   "source": [
    "sample = EntryflowConv(in_channel=3,out_channel=64)\n",
    "summary(sample,input_size=(3,299,299))"
   ]
  },
  {
   "cell_type": "code",
   "execution_count": 4,
   "metadata": {
    "pycharm": {
     "name": "#%%\n"
    }
   },
   "outputs": [],
   "source": [
    "class DepthwiseSeparable(nn.Module):\n",
    "    \"\"\"\n",
    "    Depthwise Separable Convolution is Depthwise Convolution + Pointwise Convolution.\n",
    "        Depthwise Convolution : Convolution over each channel independently\n",
    "            Divide input channels into \"in_channel\" groups and then apply convolution over each\n",
    "            Group independently : Depth is not used\n",
    "        Pointwise Convolution : Normal Convolution with kernel Size (1,1)\n",
    "            Only depth Used.\n",
    "\n",
    "    In Xception Architecture the Order of operation is different:\n",
    "        Pointwise Convolution + Depthwise Convolution\n",
    "\n",
    "    groups : No of groups the input channel should be divided into\n",
    "             For depthwise convolution = in_channel\n",
    "    padding = default: \"same\" (1 for kernel_size = 3)\n",
    "    \"\"\"\n",
    "    def __init__(self,in_channel,out_channel,kernel_size,stride=1,padding=1):\n",
    "        super(DepthwiseSeparable,self).__init__()\n",
    "\n",
    "        self.pointwise = nn.Conv2d(in_channels=in_channel,out_channels=out_channel,kernel_size=1)\n",
    "        self.depthwise = nn.Conv2d(in_channels=out_channel,out_channels=out_channel,kernel_size=kernel_size,stride=stride,padding=padding,groups=out_channel)\n",
    "\n",
    "    def forward(self,x):\n",
    "        x = self.pointwise(x)\n",
    "        x = self.depthwise(x)\n",
    "\n",
    "        return x"
   ]
  },
  {
   "cell_type": "code",
   "execution_count": 5,
   "metadata": {
    "pycharm": {
     "name": "#%%\n"
    }
   },
   "outputs": [
    {
     "name": "stdout",
     "output_type": "stream",
     "text": [
      "----------------------------------------------------------------\n",
      "        Layer (type)               Output Shape         Param #\n",
      "================================================================\n",
      "            Conv2d-1        [-1, 128, 147, 147]           8,320\n",
      "            Conv2d-2        [-1, 128, 147, 147]           1,280\n",
      "================================================================\n",
      "Total params: 9,600\n",
      "Trainable params: 9,600\n",
      "Non-trainable params: 0\n",
      "----------------------------------------------------------------\n",
      "Input size (MB): 5.28\n",
      "Forward/backward pass size (MB): 42.21\n",
      "Params size (MB): 0.04\n",
      "Estimated Total Size (MB): 47.52\n",
      "----------------------------------------------------------------\n"
     ]
    }
   ],
   "source": [
    "# Padding = 1 ('same') in all such layers\n",
    "sample = DepthwiseSeparable(in_channel=64,out_channel=128,kernel_size=3)\n",
    "summary(sample,input_size=(64,147,147))"
   ]
  },
  {
   "cell_type": "code",
   "execution_count": 6,
   "metadata": {
    "pycharm": {
     "name": "#%%\n"
    }
   },
   "outputs": [],
   "source": [
    "class EntryflowSeparable(nn.Module):\n",
    "    \"\"\"\n",
    "    This part contains depthwise separable convolutions and is repeated 3 times in original implementation.\n",
    "\n",
    "        in_channel, out_channel : Different for each repetition\n",
    "        pool_padding: default :1 , Padding value for max_pool layer\n",
    "        kernel_size = 3 : For all repetitions\n",
    "        relu_extra : bool, default : false : Whether or not put a relu layer in the beginning\n",
    "    \"\"\"\n",
    "    def __init__(self,in_channel,out_channel,pool_padding=1,relu_extra=False):\n",
    "        super(EntryflowSeparable,self).__init__()\n",
    "\n",
    "        # 1st branch\n",
    "        self.sepconv1 = DepthwiseSeparable(in_channel=in_channel,out_channel=out_channel,kernel_size=3)\n",
    "        self.sepconv2 = DepthwiseSeparable(in_channel=out_channel,out_channel=out_channel,kernel_size=3)\n",
    "        self.maxpool = nn.MaxPool2d(kernel_size=3,stride=2,padding=pool_padding)\n",
    "        self.relu = nn.ReLU()\n",
    "        self.relu_extra = relu_extra\n",
    "\n",
    "        # 2nd branch (left)\n",
    "        self.conv = nn.Conv2d(in_channels=in_channel,out_channels=out_channel,kernel_size=1,stride=2)\n",
    "\n",
    "    def forward(self,x):\n",
    "        # 2nd branch\n",
    "        y = self.conv(x)\n",
    "\n",
    "        # 1st branch\n",
    "        if self.relu_extra:\n",
    "            x = self.relu(x)\n",
    "        x = self.sepconv1(x)\n",
    "        x = self.relu(x)\n",
    "\n",
    "        x = self.sepconv2(x)\n",
    "\n",
    "        x = self.maxpool(x)\n",
    "\n",
    "        # Add two branch\n",
    "        x = x + y\n",
    "        return x"
   ]
  },
  {
   "cell_type": "code",
   "execution_count": 7,
   "metadata": {
    "pycharm": {
     "name": "#%%\n"
    }
   },
   "outputs": [
    {
     "name": "stdout",
     "output_type": "stream",
     "text": [
      "----------------------------------------------------------------\n",
      "        Layer (type)               Output Shape         Param #\n",
      "================================================================\n",
      "            Conv2d-1          [-1, 128, 74, 74]           8,320\n",
      "            Conv2d-2        [-1, 128, 147, 147]           8,320\n",
      "            Conv2d-3        [-1, 128, 147, 147]           1,280\n",
      "DepthwiseSeparable-4        [-1, 128, 147, 147]               0\n",
      "              ReLU-5        [-1, 128, 147, 147]               0\n",
      "            Conv2d-6        [-1, 128, 147, 147]          16,512\n",
      "            Conv2d-7        [-1, 128, 147, 147]           1,280\n",
      "DepthwiseSeparable-8        [-1, 128, 147, 147]               0\n",
      "         MaxPool2d-9          [-1, 128, 74, 74]               0\n",
      "================================================================\n",
      "Total params: 35,712\n",
      "Trainable params: 35,712\n",
      "Non-trainable params: 0\n",
      "----------------------------------------------------------------\n",
      "Input size (MB): 5.28\n",
      "Forward/backward pass size (MB): 158.41\n",
      "Params size (MB): 0.14\n",
      "Estimated Total Size (MB): 163.82\n",
      "----------------------------------------------------------------\n"
     ]
    }
   ],
   "source": [
    "sample = EntryflowSeparable(in_channel=64,out_channel=128)\n",
    "summary(sample,input_size=(64,147,147))"
   ]
  },
  {
   "cell_type": "code",
   "execution_count": 8,
   "outputs": [
    {
     "name": "stdout",
     "output_type": "stream",
     "text": [
      "----------------------------------------------------------------\n",
      "        Layer (type)               Output Shape         Param #\n",
      "================================================================\n",
      "            Conv2d-1          [-1, 256, 37, 37]          33,024\n",
      "              ReLU-2          [-1, 128, 74, 74]               0\n",
      "            Conv2d-3          [-1, 256, 74, 74]          33,024\n",
      "            Conv2d-4          [-1, 256, 74, 74]           2,560\n",
      "DepthwiseSeparable-5          [-1, 256, 74, 74]               0\n",
      "              ReLU-6          [-1, 256, 74, 74]               0\n",
      "            Conv2d-7          [-1, 256, 74, 74]          65,792\n",
      "            Conv2d-8          [-1, 256, 74, 74]           2,560\n",
      "DepthwiseSeparable-9          [-1, 256, 74, 74]               0\n",
      "        MaxPool2d-10          [-1, 256, 37, 37]               0\n",
      "================================================================\n",
      "Total params: 136,960\n",
      "Trainable params: 136,960\n",
      "Non-trainable params: 0\n",
      "----------------------------------------------------------------\n",
      "Input size (MB): 2.67\n",
      "Forward/backward pass size (MB): 85.56\n",
      "Params size (MB): 0.52\n",
      "Estimated Total Size (MB): 88.76\n",
      "----------------------------------------------------------------\n"
     ]
    }
   ],
   "source": [
    "sample = EntryflowSeparable(in_channel=128,out_channel=256,relu_extra=True)\n",
    "summary(sample,input_size=(128,74,74))\n"
   ],
   "metadata": {
    "collapsed": false,
    "pycharm": {
     "name": "#%%\n"
    }
   }
  },
  {
   "cell_type": "code",
   "execution_count": 9,
   "metadata": {
    "pycharm": {
     "name": "#%%\n"
    }
   },
   "outputs": [],
   "source": [
    "class EntryFlow(nn.Module):\n",
    "    \"\"\"\n",
    "    Entry Flow Part of Xception :\n",
    "\n",
    "        EntryflowConv + 3 x EntryflowSeparable\n",
    "        in_channel = 3\n",
    "        out_channel = 728\n",
    "    \"\"\"\n",
    "    def __init__(self):\n",
    "        super(EntryFlow,self).__init__()\n",
    "        self.conv = EntryflowConv(in_channel=3,out_channel=64)\n",
    "        self.sep1 = EntryflowSeparable(in_channel=64,out_channel=128)\n",
    "        self.sep2 = EntryflowSeparable(in_channel=128,out_channel=256,relu_extra=True)\n",
    "        self.sep3 = EntryflowSeparable(in_channel=256,out_channel=728,relu_extra=True)\n",
    "\n",
    "    def forward(self,x):\n",
    "        x = self.conv(x)\n",
    "        x = self.sep1(x)\n",
    "        x = self.sep2(x)\n",
    "        x = self.sep3(x)\n",
    "\n",
    "        return x"
   ]
  },
  {
   "cell_type": "code",
   "execution_count": 10,
   "metadata": {
    "pycharm": {
     "name": "#%%\n"
    }
   },
   "outputs": [
    {
     "name": "stdout",
     "output_type": "stream",
     "text": [
      "----------------------------------------------------------------\n",
      "        Layer (type)               Output Shape         Param #\n",
      "================================================================\n",
      "            Conv2d-1         [-1, 32, 149, 149]             896\n",
      "              ReLU-2         [-1, 32, 149, 149]               0\n",
      "            Conv2d-3         [-1, 64, 147, 147]          18,496\n",
      "              ReLU-4         [-1, 64, 147, 147]               0\n",
      "     EntryflowConv-5         [-1, 64, 147, 147]               0\n",
      "            Conv2d-6          [-1, 128, 74, 74]           8,320\n",
      "            Conv2d-7        [-1, 128, 147, 147]           8,320\n",
      "            Conv2d-8        [-1, 128, 147, 147]           1,280\n",
      "DepthwiseSeparable-9        [-1, 128, 147, 147]               0\n",
      "             ReLU-10        [-1, 128, 147, 147]               0\n",
      "           Conv2d-11        [-1, 128, 147, 147]          16,512\n",
      "           Conv2d-12        [-1, 128, 147, 147]           1,280\n",
      "DepthwiseSeparable-13        [-1, 128, 147, 147]               0\n",
      "        MaxPool2d-14          [-1, 128, 74, 74]               0\n",
      "EntryflowSeparable-15          [-1, 128, 74, 74]               0\n",
      "           Conv2d-16          [-1, 256, 37, 37]          33,024\n",
      "             ReLU-17          [-1, 128, 74, 74]               0\n",
      "           Conv2d-18          [-1, 256, 74, 74]          33,024\n",
      "           Conv2d-19          [-1, 256, 74, 74]           2,560\n",
      "DepthwiseSeparable-20          [-1, 256, 74, 74]               0\n",
      "             ReLU-21          [-1, 256, 74, 74]               0\n",
      "           Conv2d-22          [-1, 256, 74, 74]          65,792\n",
      "           Conv2d-23          [-1, 256, 74, 74]           2,560\n",
      "DepthwiseSeparable-24          [-1, 256, 74, 74]               0\n",
      "        MaxPool2d-25          [-1, 256, 37, 37]               0\n",
      "EntryflowSeparable-26          [-1, 256, 37, 37]               0\n",
      "           Conv2d-27          [-1, 728, 19, 19]         187,096\n",
      "             ReLU-28          [-1, 256, 37, 37]               0\n",
      "           Conv2d-29          [-1, 728, 37, 37]         187,096\n",
      "           Conv2d-30          [-1, 728, 37, 37]           7,280\n",
      "DepthwiseSeparable-31          [-1, 728, 37, 37]               0\n",
      "             ReLU-32          [-1, 728, 37, 37]               0\n",
      "           Conv2d-33          [-1, 728, 37, 37]         530,712\n",
      "           Conv2d-34          [-1, 728, 37, 37]           7,280\n",
      "DepthwiseSeparable-35          [-1, 728, 37, 37]               0\n",
      "        MaxPool2d-36          [-1, 728, 19, 19]               0\n",
      "EntryflowSeparable-37          [-1, 728, 19, 19]               0\n",
      "================================================================\n",
      "Total params: 1,111,528\n",
      "Trainable params: 1,111,528\n",
      "Non-trainable params: 0\n",
      "----------------------------------------------------------------\n",
      "Input size (MB): 1.02\n",
      "Forward/backward pass size (MB): 356.41\n",
      "Params size (MB): 4.24\n",
      "Estimated Total Size (MB): 361.67\n",
      "----------------------------------------------------------------\n"
     ]
    }
   ],
   "source": [
    "xception_entry = EntryFlow()\n",
    "summary(xception_entry,input_size=(3,299,299))"
   ]
  }
 ],
 "metadata": {
  "kernelspec": {
   "display_name": "Python 3",
   "language": "python",
   "name": "python3"
  },
  "language_info": {
   "codemirror_mode": {
    "name": "ipython",
    "version": 3
   },
   "file_extension": ".py",
   "mimetype": "text/x-python",
   "name": "python",
   "nbconvert_exporter": "python",
   "pygments_lexer": "ipython3",
   "version": "3.8.8"
  }
 },
 "nbformat": 4,
 "nbformat_minor": 1
}